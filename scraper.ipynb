{
 "cells": [
  {
   "cell_type": "code",
   "execution_count": 26,
   "metadata": {},
   "outputs": [],
   "source": [
    "import requests\n",
    "import pandas as pd\n",
    "import os\n",
    "import pathlib\n",
    "import shutil\n",
    "from tqdm import tqdm"
   ]
  },
  {
   "cell_type": "code",
   "execution_count": 27,
   "metadata": {},
   "outputs": [],
   "source": [
    "root = pathlib.Path(\"open311/cities\")\n",
    "if not os.path.exists(root):\n",
    "    os.mkdir(root)"
   ]
  },
  {
   "cell_type": "code",
   "execution_count": 29,
   "metadata": {},
   "outputs": [],
   "source": [
    "def scrape_api(city):\n",
    "    print(city.city, end=\" \")\n",
    "    df = pd.DataFrame()\n",
    "    folder = root / city.city\n",
    "\n",
    "    if city.request_type == 0:\n",
    "        i = 0\n",
    "        dfs = []\n",
    "        while True:\n",
    "            response = requests.get(city.request_url, params={\"page\": i})\n",
    "            if response.status_code != 200:\n",
    "                break\n",
    "            dfs.append(pd.DataFrame(data = response.json()))\n",
    "            i += 1\n",
    "        df = pd.concat(dfs)\n",
    "    \n",
    "    elif city.request_type == 1:\n",
    "        response = requests.get(city.request_url)\n",
    "        df = pd.DataFrame(data = response.json())\n",
    "    \n",
    "    elif city.request_type == 2:\n",
    "        response = requests.get(city.request_url)\n",
    "        df = pd.DataFrame(data = response.json()[\"service_requests\"])\n",
    "\n",
    "    else: \n",
    "        return\n",
    "    \n",
    "    df = df[df.media_url.str.len() > 0]\n",
    "    df = df.filter(items=[\"service_name\", \"media_url\"])\n",
    "\n",
    "    os.mkdir(folder)\n",
    "\n",
    "    print(\"Scraping media...\")\n",
    "    for sr in tqdm(df.itertuples(), total=df.shape[0]):\n",
    "        sn = sr.service_name.replace(\"/\", \" bzw. \")\n",
    "        media_response = requests.get(sr.media_url, stream=True)\n",
    "        if media_response.status_code == 200:\n",
    "            if not os.path.exists(folder / sn):\n",
    "                os.mkdir(folder / sn)\n",
    "            filename = sr.media_url.split(\"/\")[-1]\n",
    "            with open(folder / sn / filename, \"wb\") as media:\n",
    "                shutil.copyfileobj(media_response.raw, media)\n",
    "        "
   ]
  },
  {
   "cell_type": "code",
   "execution_count": 30,
   "metadata": {},
   "outputs": [
    {
     "name": "stdout",
     "output_type": "stream",
     "text": [
      "munich Scraping media...\n"
     ]
    },
    {
     "name": "stderr",
     "output_type": "stream",
     "text": [
      " 24%|███████████████████████████████████████████████▎                                                                                                                                                        | 87/368 [00:19<01:00,  4.62it/s]"
     ]
    }
   ],
   "source": [
    "cities = pd.read_csv(\"open311/cities.csv\")\n",
    "\n",
    "for city in cities.itertuples():\n",
    "    scrape_api(city)"
   ]
  },
  {
   "cell_type": "code",
   "execution_count": null,
   "metadata": {},
   "outputs": [],
   "source": []
  },
  {
   "cell_type": "code",
   "execution_count": null,
   "metadata": {},
   "outputs": [],
   "source": [
    "i = 0\n",
    "dfs = []\n",
    "url = \"https://anliegen.bonn.de/georeport/v2/requests.json\"\n",
    "while True:\n",
    "    response = requests.get(url, params={\"page\": i})\n",
    "    if response.status_code != 200:\n",
    "        break\n",
    "    dfs.append(pd.DataFrame(data = response.json()))\n",
    "    i += 1\n",
    "df = pd.concat(dfs)\n",
    "df = df[df.media_url.str.len() > 0]\n",
    "df = df.filter(items=[\"service_name\", \"media_url\"])\n",
    "for sr in df.itertuples():\n",
    "    sn = sr.service_name.replace(\"/\", \" bzw. \")\n",
    "    print(sr.media_url)\n",
    "    media_response = requests.get(sr.media_url, stream=True)\n",
    "    if media_response.status_code == 200:\n",
    "        if not os.path.exists(root / sn):\n",
    "            os.mkdir(root / sn)\n",
    "        filename = sr.media_url.split(\"/\")[-1]\n",
    "        with open(root / sn / filename, \"wb\") as media:\n",
    "            shutil.copyfileobj(media_response.raw, media)\n",
    "    break"
   ]
  }
 ],
 "metadata": {
  "kernelspec": {
   "display_name": "Python 3 (ipykernel)",
   "language": "python",
   "name": "python3"
  },
  "language_info": {
   "codemirror_mode": {
    "name": "ipython",
    "version": 3
   },
   "file_extension": ".py",
   "mimetype": "text/x-python",
   "name": "python",
   "nbconvert_exporter": "python",
   "pygments_lexer": "ipython3",
   "version": "3.8.10"
  },
  "orig_nbformat": 4
 },
 "nbformat": 4,
 "nbformat_minor": 2
}
